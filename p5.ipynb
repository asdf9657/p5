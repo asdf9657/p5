{
 "cells": [
  {
   "cell_type": "markdown",
   "id": "e02eb61f-8f8b-4655-9592-bec7f512ed46",
   "metadata": {},
   "source": [
    "5. Implement the Continuous Bag of Words (CBOW) Model. Stages can be "
   ]
  },
  {
   "cell_type": "code",
   "execution_count": 3,
   "id": "36cca6d4-a65f-48f3-bcf2-9b581fc841ea",
   "metadata": {},
   "outputs": [],
   "source": [
    "import torch\n",
    "import torch.nn as nn\n",
    "import torch.optim as optim"
   ]
  },
  {
   "cell_type": "code",
   "execution_count": 11,
   "id": "79de5313-1e12-4d51-94bb-fe7ede7fd103",
   "metadata": {},
   "outputs": [],
   "source": [
    "# a. Data Preparation "
   ]
  },
  {
   "cell_type": "code",
   "execution_count": 4,
   "id": "b457e081-7df9-47fb-a82c-bbb255bda6ea",
   "metadata": {},
   "outputs": [],
   "source": [
    "# Provided raw text data\n",
    "raw_text = \"\"\"We are about to study the idea of a computational process.\n",
    "Computational processes are abstract beings that inhabit computers.\n",
    "As they evolve, processes manipulate other abstract things called data.\n",
    "The evolution of a process is directed by a pattern of rules\n",
    "called a program. People create programs to direct processes. In effect,\n",
    "we conjure the spirits of the computer with our spells.\"\"\".split()"
   ]
  },
  {
   "cell_type": "code",
   "execution_count": 5,
   "id": "c9a320af-1962-4879-9fcc-dd59869e7f1d",
   "metadata": {},
   "outputs": [],
   "source": [
    "# Create vocabulary and word-to-index mapping\n",
    "vocab = set(raw_text)\n",
    "word_to_ix = {word: i for i, word in enumerate(vocab)}\n",
    "vocab_size = len(vocab)"
   ]
  },
  {
   "cell_type": "code",
   "execution_count": 13,
   "id": "5040768a-5881-4632-9309-8f1d377b37b3",
   "metadata": {},
   "outputs": [],
   "source": [
    "# b. Generate training data "
   ]
  },
  {
   "cell_type": "code",
   "execution_count": 6,
   "id": "8f2bbe39-5651-4d76-ba78-68d111d0171a",
   "metadata": {},
   "outputs": [],
   "source": [
    "# Generate context-target pairs\n",
    "context_size = 2\n",
    "data = [(raw_text[i - context_size:i] + raw_text[i + 1:i + context_size + 1], target)\n",
    "        for i, target in enumerate(raw_text[context_size:-context_size])]"
   ]
  },
  {
   "cell_type": "code",
   "execution_count": 14,
   "id": "22e7e967-a4c4-431d-a81f-b1a717bc54eb",
   "metadata": {},
   "outputs": [],
   "source": [
    "#c. Train model "
   ]
  },
  {
   "cell_type": "code",
   "execution_count": 7,
   "id": "a9512764-8031-4c6f-93f8-dc7a284420f7",
   "metadata": {},
   "outputs": [],
   "source": [
    "# CBOW Model\n",
    "class CBOW(nn.Module):\n",
    "    def __init__(self, vocab_size, embedding_dim):\n",
    "        super(CBOW, self).__init__()\n",
    "        self.embeddings = nn.Embedding(vocab_size, embedding_dim)\n",
    "        self.linear = nn.Linear(embedding_dim, vocab_size)\n",
    "\n",
    "    def forward(self, inputs):\n",
    "        embeds = self.embeddings(inputs).sum(dim=0)\n",
    "        out = self.linear(embeds)\n",
    "        return out\n",
    "\n",
    "model = CBOW(vocab_size, embedding_dim=100)\n",
    "\n",
    "loss_function = nn.CrossEntropyLoss()\n",
    "optimizer = optim.SGD(model.parameters(), lr=0.001)\n"
   ]
  },
  {
   "cell_type": "code",
   "execution_count": 8,
   "id": "7bb98658-cb3e-450b-8486-23f2dc30927e",
   "metadata": {},
   "outputs": [],
   "source": [
    "for epoch in range(50):\n",
    "    total_loss = 0\n",
    "    for context, target in data:\n",
    "        context_idxs = torch.tensor([word_to_ix[word] for word in context], dtype=torch.long)\n",
    "        target_idx = torch.tensor(word_to_ix[target], dtype=torch.long)\n",
    "\n",
    "        optimizer.zero_grad()\n",
    "        log_probs = model(context_idxs)\n",
    "        loss = loss_function(log_probs.unsqueeze(0), target_idx.unsqueeze(0))\n",
    "        loss.backward()\n",
    "        optimizer.step()\n",
    "        total_loss += loss.item()"
   ]
  },
  {
   "cell_type": "code",
   "execution_count": 9,
   "id": "0550d5f4-7b3a-41ea-afd9-ca4da7d00ce2",
   "metadata": {},
   "outputs": [],
   "source": [
    "test_context = ['People', 'create', 'to', 'direct']\n",
    "context_idx = torch.tensor([word_to_ix[word] for word in test_context], dtype=torch.long)\n",
    "output = model(context_idx)\n",
    "predicted_idx = torch.argmax(output).item()\n",
    "predicted_word = next(word for word, idx in word_to_ix.items() if idx == predicted_idx)"
   ]
  },
  {
   "cell_type": "code",
   "execution_count": 15,
   "id": "5d052535-f1e1-44ad-9c39-e640d9729279",
   "metadata": {},
   "outputs": [],
   "source": [
    "#d. Output"
   ]
  },
  {
   "cell_type": "code",
   "execution_count": 10,
   "id": "833e580a-8501-448b-81aa-fbb5ad53bacc",
   "metadata": {},
   "outputs": [
    {
     "name": "stdout",
     "output_type": "stream",
     "text": [
      "Raw text: We are about to study the idea of a computational process. Computational processes are abstract beings that inhabit computers. As they evolve, processes manipulate other abstract things called data. The evolution of a process is directed by a pattern of rules called a program. People create programs to direct processes. In effect, we conjure the spirits of the computer with our spells.\n",
      "\n",
      "Context: ['People', 'create', 'to', 'direct']\n",
      "\n",
      "Prediction: direct\n"
     ]
    }
   ],
   "source": [
    "# Print result\n",
    "print(f'Raw text: {\" \".join(raw_text)}\\n')\n",
    "print(f'Context: {test_context}\\n')\n",
    "print(f'Prediction: {predicted_word}')"
   ]
  },
  {
   "cell_type": "code",
   "execution_count": null,
   "id": "2cec3d97-58c4-4c9d-bc90-2f41b400945c",
   "metadata": {},
   "outputs": [],
   "source": []
  }
 ],
 "metadata": {
  "kernelspec": {
   "display_name": "Python 3 (ipykernel)",
   "language": "python",
   "name": "python3"
  },
  "language_info": {
   "codemirror_mode": {
    "name": "ipython",
    "version": 3
   },
   "file_extension": ".py",
   "mimetype": "text/x-python",
   "name": "python",
   "nbconvert_exporter": "python",
   "pygments_lexer": "ipython3",
   "version": "3.11.4"
  }
 },
 "nbformat": 4,
 "nbformat_minor": 5
}
